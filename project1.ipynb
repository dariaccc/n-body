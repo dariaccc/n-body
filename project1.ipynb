{
 "cells": [
  {
   "cell_type": "code",
   "execution_count": 1,
   "metadata": {},
   "outputs": [],
   "source": [
    "import random\n",
    "import math\n",
    "\n",
    "import dash\n",
    "from dash import html, dcc, Input, Output, callback\n",
    "import plotly.express as px\n",
    "import pandas as pd\n",
    "#import matplotlib.pyplot as plt\n"
   ]
  },
  {
   "cell_type": "code",
   "execution_count": 2,
   "metadata": {},
   "outputs": [
    {
     "name": "stdout",
     "output_type": "stream",
     "text": [
      "[19.8, 12.1, 10.68, 11.69, 14.94, 12.87, 16.75, 11.45, 4.32, 17.24]\n",
      "[0.32, 0.73, 0.05, 0.33, 0.42, 0.48, 0.54, 0.1, 0.98, 0.49]\n",
      "{'Mass': [19.8, 12.1, 10.68, 11.69, 14.94, 12.87, 16.75, 11.45, 4.32, 17.24], 'Velocity': [0.32, 0.73, 0.05, 0.33, 0.42, 0.48, 0.54, 0.1, 0.98, 0.49], 'X-coordinate': [258, 51, 203, 464, 446, 453, 12, 290, 227, 127], 'Y-coordinate': [379, 88, 243, 94, 149, 40, 231, 425, 261, 48]}\n"
     ]
    }
   ],
   "source": [
    "x = 500\n",
    "y = 500\n",
    "\n",
    "class astro_obj:\n",
    "    def __init__(self, mass, v, x_cor, y_cor):\n",
    "        self.mass = mass\n",
    "        self.v = v\n",
    "        self.x_cor = x_cor\n",
    "        self.y_cor = y_cor\n",
    "\n",
    "bodies = {}\n",
    "\n",
    "for i in range(0, random.randint(5, 15)):\n",
    "    mass = round(random.uniform(0.01, 20), 2)\n",
    "    body = (astro_obj(mass, round(random.uniform(0.1, 3.0)/ math.sqrt(mass), 2), random.randint(0, 500), random.randint(0, 500)))\n",
    "    bodies.setdefault(\"Mass\", []).append(body.mass)\n",
    "    bodies.setdefault(\"Velocity\", []).append(body.v)\n",
    "    bodies.setdefault(\"X-coordinate\", []).append(body.x_cor)\n",
    "    bodies.setdefault(\"Y-coordinate\", []).append(body.y_cor)\n",
    "\n",
    "print(bodies[\"Mass\"])\n",
    "print(bodies[\"Velocity\"])\n",
    "print(bodies)"
   ]
  },
  {
   "cell_type": "code",
   "execution_count": 3,
   "metadata": {},
   "outputs": [
    {
     "data": {
      "application/vnd.plotly.v1+json": {
       "config": {
        "plotlyServerURL": "https://plot.ly"
       },
       "data": [
        {
         "hovertemplate": "X-coordinate=%{x}<br>Y-coordinate=%{y}<br>Mass=%{marker.size}<br>Velocity=%{marker.color}<extra></extra>",
         "legendgroup": "",
         "marker": {
          "color": {
           "bdata": "exSuR+F61D9cj8L1KFznP5qZmZmZmak/H4XrUbge1T/hehSuR+HaP7gehetRuN4/SOF6FK5H4T+amZmZmZm5P1yPwvUoXO8/XI/C9Shc3z8=",
           "dtype": "f8"
          },
          "coloraxis": "coloraxis",
          "size": {
           "bdata": "zczMzMzMM0AzMzMzMzMoQFyPwvUoXCVA4XoUrkdhJ0DhehSuR+EtQD0K16NwvSlAAAAAAADAMEBmZmZmZuYmQEjhehSuRxFAPQrXo3A9MUA=",
           "dtype": "f8"
          },
          "sizemode": "area",
          "sizeref": 0.022000000000000002,
          "symbol": "circle"
         },
         "mode": "markers",
         "name": "",
         "orientation": "v",
         "showlegend": false,
         "type": "scatter",
         "x": {
          "bdata": "AgEzAMsA0AG+AcUBDAAiAeMAfwA=",
          "dtype": "i2"
         },
         "xaxis": "x",
         "y": {
          "bdata": "ewFYAPMAXgCVACgA5wCpAQUBMAA=",
          "dtype": "i2"
         },
         "yaxis": "y"
        }
       ],
       "layout": {
        "coloraxis": {
         "colorbar": {
          "title": {
           "text": "Velocity"
          }
         },
         "colorscale": [
          [
           0,
           "#0d0887"
          ],
          [
           0.1111111111111111,
           "#46039f"
          ],
          [
           0.2222222222222222,
           "#7201a8"
          ],
          [
           0.3333333333333333,
           "#9c179e"
          ],
          [
           0.4444444444444444,
           "#bd3786"
          ],
          [
           0.5555555555555556,
           "#d8576b"
          ],
          [
           0.6666666666666666,
           "#ed7953"
          ],
          [
           0.7777777777777778,
           "#fb9f3a"
          ],
          [
           0.8888888888888888,
           "#fdca26"
          ],
          [
           1,
           "#f0f921"
          ]
         ]
        },
        "legend": {
         "itemsizing": "constant",
         "tracegroupgap": 0
        },
        "margin": {
         "t": 60
        },
        "template": {
         "data": {
          "bar": [
           {
            "error_x": {
             "color": "#2a3f5f"
            },
            "error_y": {
             "color": "#2a3f5f"
            },
            "marker": {
             "line": {
              "color": "#E5ECF6",
              "width": 0.5
             },
             "pattern": {
              "fillmode": "overlay",
              "size": 10,
              "solidity": 0.2
             }
            },
            "type": "bar"
           }
          ],
          "barpolar": [
           {
            "marker": {
             "line": {
              "color": "#E5ECF6",
              "width": 0.5
             },
             "pattern": {
              "fillmode": "overlay",
              "size": 10,
              "solidity": 0.2
             }
            },
            "type": "barpolar"
           }
          ],
          "carpet": [
           {
            "aaxis": {
             "endlinecolor": "#2a3f5f",
             "gridcolor": "white",
             "linecolor": "white",
             "minorgridcolor": "white",
             "startlinecolor": "#2a3f5f"
            },
            "baxis": {
             "endlinecolor": "#2a3f5f",
             "gridcolor": "white",
             "linecolor": "white",
             "minorgridcolor": "white",
             "startlinecolor": "#2a3f5f"
            },
            "type": "carpet"
           }
          ],
          "choropleth": [
           {
            "colorbar": {
             "outlinewidth": 0,
             "ticks": ""
            },
            "type": "choropleth"
           }
          ],
          "contour": [
           {
            "colorbar": {
             "outlinewidth": 0,
             "ticks": ""
            },
            "colorscale": [
             [
              0,
              "#0d0887"
             ],
             [
              0.1111111111111111,
              "#46039f"
             ],
             [
              0.2222222222222222,
              "#7201a8"
             ],
             [
              0.3333333333333333,
              "#9c179e"
             ],
             [
              0.4444444444444444,
              "#bd3786"
             ],
             [
              0.5555555555555556,
              "#d8576b"
             ],
             [
              0.6666666666666666,
              "#ed7953"
             ],
             [
              0.7777777777777778,
              "#fb9f3a"
             ],
             [
              0.8888888888888888,
              "#fdca26"
             ],
             [
              1,
              "#f0f921"
             ]
            ],
            "type": "contour"
           }
          ],
          "contourcarpet": [
           {
            "colorbar": {
             "outlinewidth": 0,
             "ticks": ""
            },
            "type": "contourcarpet"
           }
          ],
          "heatmap": [
           {
            "colorbar": {
             "outlinewidth": 0,
             "ticks": ""
            },
            "colorscale": [
             [
              0,
              "#0d0887"
             ],
             [
              0.1111111111111111,
              "#46039f"
             ],
             [
              0.2222222222222222,
              "#7201a8"
             ],
             [
              0.3333333333333333,
              "#9c179e"
             ],
             [
              0.4444444444444444,
              "#bd3786"
             ],
             [
              0.5555555555555556,
              "#d8576b"
             ],
             [
              0.6666666666666666,
              "#ed7953"
             ],
             [
              0.7777777777777778,
              "#fb9f3a"
             ],
             [
              0.8888888888888888,
              "#fdca26"
             ],
             [
              1,
              "#f0f921"
             ]
            ],
            "type": "heatmap"
           }
          ],
          "histogram": [
           {
            "marker": {
             "pattern": {
              "fillmode": "overlay",
              "size": 10,
              "solidity": 0.2
             }
            },
            "type": "histogram"
           }
          ],
          "histogram2d": [
           {
            "colorbar": {
             "outlinewidth": 0,
             "ticks": ""
            },
            "colorscale": [
             [
              0,
              "#0d0887"
             ],
             [
              0.1111111111111111,
              "#46039f"
             ],
             [
              0.2222222222222222,
              "#7201a8"
             ],
             [
              0.3333333333333333,
              "#9c179e"
             ],
             [
              0.4444444444444444,
              "#bd3786"
             ],
             [
              0.5555555555555556,
              "#d8576b"
             ],
             [
              0.6666666666666666,
              "#ed7953"
             ],
             [
              0.7777777777777778,
              "#fb9f3a"
             ],
             [
              0.8888888888888888,
              "#fdca26"
             ],
             [
              1,
              "#f0f921"
             ]
            ],
            "type": "histogram2d"
           }
          ],
          "histogram2dcontour": [
           {
            "colorbar": {
             "outlinewidth": 0,
             "ticks": ""
            },
            "colorscale": [
             [
              0,
              "#0d0887"
             ],
             [
              0.1111111111111111,
              "#46039f"
             ],
             [
              0.2222222222222222,
              "#7201a8"
             ],
             [
              0.3333333333333333,
              "#9c179e"
             ],
             [
              0.4444444444444444,
              "#bd3786"
             ],
             [
              0.5555555555555556,
              "#d8576b"
             ],
             [
              0.6666666666666666,
              "#ed7953"
             ],
             [
              0.7777777777777778,
              "#fb9f3a"
             ],
             [
              0.8888888888888888,
              "#fdca26"
             ],
             [
              1,
              "#f0f921"
             ]
            ],
            "type": "histogram2dcontour"
           }
          ],
          "mesh3d": [
           {
            "colorbar": {
             "outlinewidth": 0,
             "ticks": ""
            },
            "type": "mesh3d"
           }
          ],
          "parcoords": [
           {
            "line": {
             "colorbar": {
              "outlinewidth": 0,
              "ticks": ""
             }
            },
            "type": "parcoords"
           }
          ],
          "pie": [
           {
            "automargin": true,
            "type": "pie"
           }
          ],
          "scatter": [
           {
            "fillpattern": {
             "fillmode": "overlay",
             "size": 10,
             "solidity": 0.2
            },
            "type": "scatter"
           }
          ],
          "scatter3d": [
           {
            "line": {
             "colorbar": {
              "outlinewidth": 0,
              "ticks": ""
             }
            },
            "marker": {
             "colorbar": {
              "outlinewidth": 0,
              "ticks": ""
             }
            },
            "type": "scatter3d"
           }
          ],
          "scattercarpet": [
           {
            "marker": {
             "colorbar": {
              "outlinewidth": 0,
              "ticks": ""
             }
            },
            "type": "scattercarpet"
           }
          ],
          "scattergeo": [
           {
            "marker": {
             "colorbar": {
              "outlinewidth": 0,
              "ticks": ""
             }
            },
            "type": "scattergeo"
           }
          ],
          "scattergl": [
           {
            "marker": {
             "colorbar": {
              "outlinewidth": 0,
              "ticks": ""
             }
            },
            "type": "scattergl"
           }
          ],
          "scattermap": [
           {
            "marker": {
             "colorbar": {
              "outlinewidth": 0,
              "ticks": ""
             }
            },
            "type": "scattermap"
           }
          ],
          "scattermapbox": [
           {
            "marker": {
             "colorbar": {
              "outlinewidth": 0,
              "ticks": ""
             }
            },
            "type": "scattermapbox"
           }
          ],
          "scatterpolar": [
           {
            "marker": {
             "colorbar": {
              "outlinewidth": 0,
              "ticks": ""
             }
            },
            "type": "scatterpolar"
           }
          ],
          "scatterpolargl": [
           {
            "marker": {
             "colorbar": {
              "outlinewidth": 0,
              "ticks": ""
             }
            },
            "type": "scatterpolargl"
           }
          ],
          "scatterternary": [
           {
            "marker": {
             "colorbar": {
              "outlinewidth": 0,
              "ticks": ""
             }
            },
            "type": "scatterternary"
           }
          ],
          "surface": [
           {
            "colorbar": {
             "outlinewidth": 0,
             "ticks": ""
            },
            "colorscale": [
             [
              0,
              "#0d0887"
             ],
             [
              0.1111111111111111,
              "#46039f"
             ],
             [
              0.2222222222222222,
              "#7201a8"
             ],
             [
              0.3333333333333333,
              "#9c179e"
             ],
             [
              0.4444444444444444,
              "#bd3786"
             ],
             [
              0.5555555555555556,
              "#d8576b"
             ],
             [
              0.6666666666666666,
              "#ed7953"
             ],
             [
              0.7777777777777778,
              "#fb9f3a"
             ],
             [
              0.8888888888888888,
              "#fdca26"
             ],
             [
              1,
              "#f0f921"
             ]
            ],
            "type": "surface"
           }
          ],
          "table": [
           {
            "cells": {
             "fill": {
              "color": "#EBF0F8"
             },
             "line": {
              "color": "white"
             }
            },
            "header": {
             "fill": {
              "color": "#C8D4E3"
             },
             "line": {
              "color": "white"
             }
            },
            "type": "table"
           }
          ]
         },
         "layout": {
          "annotationdefaults": {
           "arrowcolor": "#2a3f5f",
           "arrowhead": 0,
           "arrowwidth": 1
          },
          "autotypenumbers": "strict",
          "coloraxis": {
           "colorbar": {
            "outlinewidth": 0,
            "ticks": ""
           }
          },
          "colorscale": {
           "diverging": [
            [
             0,
             "#8e0152"
            ],
            [
             0.1,
             "#c51b7d"
            ],
            [
             0.2,
             "#de77ae"
            ],
            [
             0.3,
             "#f1b6da"
            ],
            [
             0.4,
             "#fde0ef"
            ],
            [
             0.5,
             "#f7f7f7"
            ],
            [
             0.6,
             "#e6f5d0"
            ],
            [
             0.7,
             "#b8e186"
            ],
            [
             0.8,
             "#7fbc41"
            ],
            [
             0.9,
             "#4d9221"
            ],
            [
             1,
             "#276419"
            ]
           ],
           "sequential": [
            [
             0,
             "#0d0887"
            ],
            [
             0.1111111111111111,
             "#46039f"
            ],
            [
             0.2222222222222222,
             "#7201a8"
            ],
            [
             0.3333333333333333,
             "#9c179e"
            ],
            [
             0.4444444444444444,
             "#bd3786"
            ],
            [
             0.5555555555555556,
             "#d8576b"
            ],
            [
             0.6666666666666666,
             "#ed7953"
            ],
            [
             0.7777777777777778,
             "#fb9f3a"
            ],
            [
             0.8888888888888888,
             "#fdca26"
            ],
            [
             1,
             "#f0f921"
            ]
           ],
           "sequentialminus": [
            [
             0,
             "#0d0887"
            ],
            [
             0.1111111111111111,
             "#46039f"
            ],
            [
             0.2222222222222222,
             "#7201a8"
            ],
            [
             0.3333333333333333,
             "#9c179e"
            ],
            [
             0.4444444444444444,
             "#bd3786"
            ],
            [
             0.5555555555555556,
             "#d8576b"
            ],
            [
             0.6666666666666666,
             "#ed7953"
            ],
            [
             0.7777777777777778,
             "#fb9f3a"
            ],
            [
             0.8888888888888888,
             "#fdca26"
            ],
            [
             1,
             "#f0f921"
            ]
           ]
          },
          "colorway": [
           "#636efa",
           "#EF553B",
           "#00cc96",
           "#ab63fa",
           "#FFA15A",
           "#19d3f3",
           "#FF6692",
           "#B6E880",
           "#FF97FF",
           "#FECB52"
          ],
          "font": {
           "color": "#2a3f5f"
          },
          "geo": {
           "bgcolor": "white",
           "lakecolor": "white",
           "landcolor": "#E5ECF6",
           "showlakes": true,
           "showland": true,
           "subunitcolor": "white"
          },
          "hoverlabel": {
           "align": "left"
          },
          "hovermode": "closest",
          "mapbox": {
           "style": "light"
          },
          "paper_bgcolor": "white",
          "plot_bgcolor": "#E5ECF6",
          "polar": {
           "angularaxis": {
            "gridcolor": "white",
            "linecolor": "white",
            "ticks": ""
           },
           "bgcolor": "#E5ECF6",
           "radialaxis": {
            "gridcolor": "white",
            "linecolor": "white",
            "ticks": ""
           }
          },
          "scene": {
           "xaxis": {
            "backgroundcolor": "#E5ECF6",
            "gridcolor": "white",
            "gridwidth": 2,
            "linecolor": "white",
            "showbackground": true,
            "ticks": "",
            "zerolinecolor": "white"
           },
           "yaxis": {
            "backgroundcolor": "#E5ECF6",
            "gridcolor": "white",
            "gridwidth": 2,
            "linecolor": "white",
            "showbackground": true,
            "ticks": "",
            "zerolinecolor": "white"
           },
           "zaxis": {
            "backgroundcolor": "#E5ECF6",
            "gridcolor": "white",
            "gridwidth": 2,
            "linecolor": "white",
            "showbackground": true,
            "ticks": "",
            "zerolinecolor": "white"
           }
          },
          "shapedefaults": {
           "line": {
            "color": "#2a3f5f"
           }
          },
          "ternary": {
           "aaxis": {
            "gridcolor": "white",
            "linecolor": "white",
            "ticks": ""
           },
           "baxis": {
            "gridcolor": "white",
            "linecolor": "white",
            "ticks": ""
           },
           "bgcolor": "#E5ECF6",
           "caxis": {
            "gridcolor": "white",
            "linecolor": "white",
            "ticks": ""
           }
          },
          "title": {
           "x": 0.05
          },
          "xaxis": {
           "automargin": true,
           "gridcolor": "white",
           "linecolor": "white",
           "ticks": "",
           "title": {
            "standoff": 15
           },
           "zerolinecolor": "white",
           "zerolinewidth": 2
          },
          "yaxis": {
           "automargin": true,
           "gridcolor": "white",
           "linecolor": "white",
           "ticks": "",
           "title": {
            "standoff": 15
           },
           "zerolinecolor": "white",
           "zerolinewidth": 2
          }
         }
        },
        "xaxis": {
         "anchor": "y",
         "domain": [
          0,
          1
         ],
         "title": {
          "text": "X-coordinate"
         },
         "type": "log"
        },
        "yaxis": {
         "anchor": "x",
         "domain": [
          0,
          1
         ],
         "title": {
          "text": "Y-coordinate"
         }
        }
       }
      }
     },
     "metadata": {},
     "output_type": "display_data"
    }
   ],
   "source": [
    "#inital positions\n",
    "fig = px.scatter(bodies, x=\"X-coordinate\", y=\"Y-coordinate\", color=\"Velocity\",\n",
    "                 size=\"Mass\", log_x=True, size_max=30)\n",
    "\n",
    "fig.show()"
   ]
  },
  {
   "cell_type": "code",
   "execution_count": 4,
   "metadata": {},
   "outputs": [
    {
     "name": "stdout",
     "output_type": "stream",
     "text": [
      "45\n",
      "45\n",
      "[[357.11, 146.7, 351.65, 297.06, 391.08, 287.09, 56.04, 122.0, 355.98, 217.09, 413.04, 399.68, 404.86, 148.22, 413.15, 246.79, 85.88, 300.54, 260.55, 322.04, 191.38, 201.73, 30.0, 209.29, 57.87, 55.11, 472.31, 373.95, 289.93, 340.12, 109.22, 441.68, 317.04, 245.98, 334.61, 480.59, 418.08, 316.1, 326.1, 339.0, 217.08, 216.13, 175.68, 410.73, 235.31]]\n",
      "[[239.58, 211.46, 231.46, 295.81, 254.83, 331.65, 226.71, 85.54, 341.35, 129.23, 141.45, 180.77, 155.73, 202.67, 138.54, 52.27, 208.6, 124.85, 159.56, 137.45, 178.89, 122.29, 46.14, 184.12, 174.65, 150.45, 195.81, 133.85, 50.5, 201.54, 192.28, 250.25, 171.06, 64.54, 257.57, 215.57, 147.36, 55.6, 221.88, 191.79, 72.36, 288.77, 49.46, 197.4, 74.48]]\n",
      "-0.6708857214863767\n"
     ]
    }
   ],
   "source": [
    "def distance(bodies):\n",
    "    r = []\n",
    "    length = len(bodies[\"Mass\"])\n",
    "    for i in range(0, len(bodies[\"Mass\"]) - 1):\n",
    "        #print(f\"i = {i}\")\n",
    "        for j in range(1, length):\n",
    "                x1 = bodies[\"X-coordinate\"][i]\n",
    "                y1 = bodies[\"Y-coordinate\"][i]\n",
    "                x2 = bodies[\"X-coordinate\"][i + j]\n",
    "                y2 = bodies[\"Y-coordinate\"][i + j]\n",
    "                r.append(round(math.sqrt(math.pow((x2 - x1), 2) + math.pow((y2 - y1), 2)), 2))\n",
    "                #print(j)\n",
    "        #print(f\"length = {length}\")\n",
    "        length -= 1\n",
    "        if length < 0:\n",
    "            break\n",
    "    return r\n",
    "\n",
    "def get_mass(bodies):\n",
    "    masses = []\n",
    "    length = len(bodies[\"Mass\"])\n",
    "    for i in range(0, len(bodies[\"Mass\"]) - 1):\n",
    "        for j in range(1, length):\n",
    "                m1 = bodies[\"Mass\"][i]\n",
    "                m2 = bodies[\"Mass\"][i + j]\n",
    "                masses.append(round((m1 * m2), 2))\n",
    "        length -= 1\n",
    "        if length < 0:\n",
    "            break\n",
    "    return masses\n",
    "\n",
    "def gp_energy(r_list, m_list):\n",
    "     #U = -((G*m1*m2)/r)\n",
    "     G = 1\n",
    "     U = 0\n",
    "     for i in range(0, len(r_list)):\n",
    "        U += -((G * m_list[0][i])/r_list[0][i])\n",
    "     return U\n",
    "\n",
    "# useless function for kinetic energy\n",
    "def ki_energy(bodies, m_list):\n",
    "    K = 0\n",
    "     # K = 0.5mv^2\n",
    "    for i in range(0, len(bodies[\"Mass\"])):\n",
    "          v = bodies[\"Velocity\"][i]\n",
    "          m = bodies[\"Mass\"][i]\n",
    "          K += (math.pow(m*v, 2))/2\n",
    "    return K\n",
    "\n",
    "r_list, m_list = [], []\n",
    "r_list.append(distance(bodies))\n",
    "m_list.append(get_mass(bodies))\n",
    "fitness = gp_energy(r_list, m_list)\n",
    "#k_total = ki_energy(bodies, m_list)\n",
    "\n",
    "print(len(r_list[0]))\n",
    "print(len(m_list[0]))\n",
    "print(r_list)\n",
    "print(m_list)\n",
    "print(fitness)\n",
    "#print(k_total)"
   ]
  },
  {
   "cell_type": "code",
   "execution_count": 5,
   "metadata": {},
   "outputs": [
    {
     "name": "stdout",
     "output_type": "stream",
     "text": [
      "-75.81645569620254\n",
      "212\n"
     ]
    }
   ],
   "source": [
    "#for a random star, change either x or y randomly by +1 or-1\n",
    "x = True\n",
    "iterations = 0\n",
    "test = 0\n",
    "plot = []\n",
    "\n",
    "#while x:\n",
    "for i in range(0, 1000):\n",
    "    point = random.randint(0, len(bodies[\"X-coordinate\"]) - 1)\n",
    "    #print(len(bodies[\"X-coordinate\"]))\n",
    "    #print(point)\n",
    "\n",
    "    choice = [\"X-coordinate\", \"Y-coordinate\"]\n",
    "    random_int = random.randint(0,1)\n",
    "    x_y = random.choice(choice)\n",
    "\n",
    "    #print(f\"before: {bodies[x_y][point]}\")\n",
    "\n",
    "    old_value = bodies[x_y][point]\n",
    "\n",
    "    if random_int == 1:\n",
    "        bodies[x_y][point] += 10\n",
    "    elif random_int == 0:\n",
    "        bodies[x_y][point] -= 10\n",
    "\n",
    "    #print(f\"after: {bodies[x_y][point]}\")\n",
    "\n",
    "    r_list, m_list = [], []\n",
    "\n",
    "    r_list.append(distance(bodies))\n",
    "    m_list.append(get_mass(bodies))\n",
    "    new_fitness = gp_energy(r_list, m_list)\n",
    "    #k_total = ki_energy(bodies, m_list)\n",
    "\n",
    "    if new_fitness < fitness:\n",
    "        fitness = new_fitness\n",
    "        iterations += 1\n",
    "        plot.append(px.scatter(bodies, x=\"X-coordinate\", y=\"Y-coordinate\", color=\"Velocity\",\n",
    "                 size=\"Mass\", log_x=True, size_max=30))\n",
    "    elif new_fitness > fitness:\n",
    "        bodies[x_y][point] = old_value\n",
    "        iterations += 1\n",
    "        plot.append(px.scatter(bodies, x=\"X-coordinate\", y=\"Y-coordinate\", color=\"Velocity\",\n",
    "                 size=\"Mass\", log_x=True, size_max=30))\n",
    "\n",
    "\n",
    "print(fitness)\n",
    "print(iterations)"
   ]
  },
  {
   "cell_type": "code",
   "execution_count": 6,
   "metadata": {},
   "outputs": [
    {
     "data": {
      "text/html": [
       "\n",
       "        <iframe\n",
       "            width=\"100%\"\n",
       "            height=\"650\"\n",
       "            src=\"http://127.0.0.1:8050/\"\n",
       "            frameborder=\"0\"\n",
       "            allowfullscreen\n",
       "            \n",
       "        ></iframe>\n",
       "        "
      ],
      "text/plain": [
       "<IPython.lib.display.IFrame at 0x119a9fa10>"
      ]
     },
     "metadata": {},
     "output_type": "display_data"
    }
   ],
   "source": [
    "app = dash.Dash(__name__)\n",
    "\n",
    "app.layout = html.Div([\n",
    "    html.Div([\n",
    "        html.Pre(children = f\"2D {len(bodies[\"Mass\"])}-body simulation\", \n",
    "                 style={\"text-align\": \"center\", \"font-size\": \"100%\", \"color\": \"white\"})\n",
    "    ]),\n",
    "\n",
    "    html.Div([\n",
    "        dcc.Graph(id=\"x_y\", figure=plot[iterations - 1])\n",
    "    ]),\n",
    "\n",
    "    html.Div([\n",
    "        dcc.Slider(0, iterations-1, marks=None, id=\"slider\", value=iterations-1, step=1)\n",
    "    ])\n",
    "])\n",
    "\n",
    "\n",
    "@app.callback(\n",
    "    Output(\"x_y\", \"figure\"),\n",
    "    Input(\"slider\", \"value\")\n",
    ")\n",
    "\n",
    "def update_graph(value):\n",
    "    return plot[value]\n",
    "\n",
    "if __name__ == '__main__':\n",
    "    app.run(debug=True)"
   ]
  }
 ],
 "metadata": {
  "kernelspec": {
   "display_name": ".venv",
   "language": "python",
   "name": "python3"
  },
  "language_info": {
   "codemirror_mode": {
    "name": "ipython",
    "version": 3
   },
   "file_extension": ".py",
   "mimetype": "text/x-python",
   "name": "python",
   "nbconvert_exporter": "python",
   "pygments_lexer": "ipython3",
   "version": "3.13.3"
  }
 },
 "nbformat": 4,
 "nbformat_minor": 2
}
