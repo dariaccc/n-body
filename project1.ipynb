{
 "cells": [
  {
   "cell_type": "code",
   "execution_count": 1,
   "metadata": {},
   "outputs": [],
   "source": [
    "import random\n",
    "import math\n",
    "\n",
    "import dash\n",
    "from dash import html, dcc, Input, Output, callback\n",
    "import plotly.express as px\n",
    "import pandas as pd\n",
    "#import matplotlib.pyplot as plt\n"
   ]
  },
  {
   "cell_type": "code",
   "execution_count": 2,
   "metadata": {},
   "outputs": [
    {
     "name": "stdout",
     "output_type": "stream",
     "text": [
      "[16.38, 18.66, 14.08, 2.87, 9.22, 16.88, 4.98, 3.07, 13.34, 17.21, 9.58, 18.52, 3.54]\n",
      "[0.63, 0.33, 0.36, 1.75, 0.63, 0.65, 1.08, 0.64, 0.17, 0.7, 0.48, 0.46, 1.41]\n",
      "{'Mass': [16.38, 18.66, 14.08, 2.87, 9.22, 16.88, 4.98, 3.07, 13.34, 17.21, 9.58, 18.52, 3.54], 'Velocity': [0.63, 0.33, 0.36, 1.75, 0.63, 0.65, 1.08, 0.64, 0.17, 0.7, 0.48, 0.46, 1.41], 'X-coordinate': [379, 434, 49, 489, 74, 42, 236, 6, 121, 84, 405, 300, 198], 'Y-coordinate': [449, 483, 317, 189, 25, 69, 120, 188, 471, 127, 344, 43, 83]}\n"
     ]
    }
   ],
   "source": [
    "x = 500\n",
    "y = 500\n",
    "\n",
    "class astro_obj:\n",
    "    def __init__(self, mass, v, x_cor, y_cor):\n",
    "        self.mass = mass\n",
    "        self.v = v\n",
    "        self.x_cor = x_cor\n",
    "        self.y_cor = y_cor\n",
    "\n",
    "bodies = {}\n",
    "\n",
    "for i in range(0, random.randint(5, 15)):\n",
    "    mass = round(random.uniform(0.01, 20), 2)\n",
    "    body = (astro_obj(mass, round(random.uniform(0.1, 3.0)/ math.sqrt(mass), 2), random.randint(0, 500), random.randint(0, 500)))\n",
    "    bodies.setdefault(\"Mass\", []).append(body.mass)\n",
    "    bodies.setdefault(\"Velocity\", []).append(body.v)\n",
    "    bodies.setdefault(\"X-coordinate\", []).append(body.x_cor)\n",
    "    bodies.setdefault(\"Y-coordinate\", []).append(body.y_cor)\n",
    "\n",
    "print(bodies[\"Mass\"])\n",
    "print(bodies[\"Velocity\"])\n",
    "print(bodies)"
   ]
  },
  {
   "cell_type": "code",
   "execution_count": 3,
   "metadata": {},
   "outputs": [
    {
     "data": {
      "application/vnd.plotly.v1+json": {
       "config": {
        "plotlyServerURL": "https://plot.ly"
       },
       "data": [
        {
         "hovertemplate": "X-coordinate=%{x}<br>Y-coordinate=%{y}<br>Mass=%{marker.size}<br>Velocity=%{marker.color}<extra></extra>",
         "legendgroup": "",
         "marker": {
          "color": {
           "bdata": "KVyPwvUo5D8fhetRuB7VPwrXo3A9Ctc/AAAAAAAA/D8pXI/C9SjkP83MzMzMzOQ/SOF6FK5H8T97FK5H4XrkP8P1KFyPwsU/ZmZmZmZm5j+4HoXrUbjeP3E9CtejcN0/j8L1KFyP9j8=",
           "dtype": "f8"
          },
          "coloraxis": "coloraxis",
          "size": {
           "bdata": "4XoUrkdhMEApXI/C9agyQClcj8L1KCxA9ihcj8L1BkBxPQrXo3AiQOF6FK5H4TBA7FG4HoXrE0CPwvUoXI8IQK5H4XoUripA9ihcj8I1MUApXI/C9SgjQIXrUbgehTJAUrgehetRDEA=",
           "dtype": "f8"
          },
          "sizemode": "area",
          "sizeref": 0.020733333333333333,
          "symbol": "circle"
         },
         "mode": "markers",
         "name": "",
         "orientation": "v",
         "showlegend": false,
         "type": "scatter",
         "x": {
          "bdata": "ewGyATEA6QFKACoA7AAGAHkAVACVASwBxgA=",
          "dtype": "i2"
         },
         "xaxis": "x",
         "y": {
          "bdata": "wQHjAT0BvQAZAEUAeAC8ANcBfwBYASsAUwA=",
          "dtype": "i2"
         },
         "yaxis": "y"
        }
       ],
       "layout": {
        "coloraxis": {
         "colorbar": {
          "title": {
           "text": "Velocity"
          }
         },
         "colorscale": [
          [
           0,
           "#0d0887"
          ],
          [
           0.1111111111111111,
           "#46039f"
          ],
          [
           0.2222222222222222,
           "#7201a8"
          ],
          [
           0.3333333333333333,
           "#9c179e"
          ],
          [
           0.4444444444444444,
           "#bd3786"
          ],
          [
           0.5555555555555556,
           "#d8576b"
          ],
          [
           0.6666666666666666,
           "#ed7953"
          ],
          [
           0.7777777777777778,
           "#fb9f3a"
          ],
          [
           0.8888888888888888,
           "#fdca26"
          ],
          [
           1,
           "#f0f921"
          ]
         ]
        },
        "legend": {
         "itemsizing": "constant",
         "tracegroupgap": 0
        },
        "margin": {
         "t": 60
        },
        "template": {
         "data": {
          "bar": [
           {
            "error_x": {
             "color": "#2a3f5f"
            },
            "error_y": {
             "color": "#2a3f5f"
            },
            "marker": {
             "line": {
              "color": "#E5ECF6",
              "width": 0.5
             },
             "pattern": {
              "fillmode": "overlay",
              "size": 10,
              "solidity": 0.2
             }
            },
            "type": "bar"
           }
          ],
          "barpolar": [
           {
            "marker": {
             "line": {
              "color": "#E5ECF6",
              "width": 0.5
             },
             "pattern": {
              "fillmode": "overlay",
              "size": 10,
              "solidity": 0.2
             }
            },
            "type": "barpolar"
           }
          ],
          "carpet": [
           {
            "aaxis": {
             "endlinecolor": "#2a3f5f",
             "gridcolor": "white",
             "linecolor": "white",
             "minorgridcolor": "white",
             "startlinecolor": "#2a3f5f"
            },
            "baxis": {
             "endlinecolor": "#2a3f5f",
             "gridcolor": "white",
             "linecolor": "white",
             "minorgridcolor": "white",
             "startlinecolor": "#2a3f5f"
            },
            "type": "carpet"
           }
          ],
          "choropleth": [
           {
            "colorbar": {
             "outlinewidth": 0,
             "ticks": ""
            },
            "type": "choropleth"
           }
          ],
          "contour": [
           {
            "colorbar": {
             "outlinewidth": 0,
             "ticks": ""
            },
            "colorscale": [
             [
              0,
              "#0d0887"
             ],
             [
              0.1111111111111111,
              "#46039f"
             ],
             [
              0.2222222222222222,
              "#7201a8"
             ],
             [
              0.3333333333333333,
              "#9c179e"
             ],
             [
              0.4444444444444444,
              "#bd3786"
             ],
             [
              0.5555555555555556,
              "#d8576b"
             ],
             [
              0.6666666666666666,
              "#ed7953"
             ],
             [
              0.7777777777777778,
              "#fb9f3a"
             ],
             [
              0.8888888888888888,
              "#fdca26"
             ],
             [
              1,
              "#f0f921"
             ]
            ],
            "type": "contour"
           }
          ],
          "contourcarpet": [
           {
            "colorbar": {
             "outlinewidth": 0,
             "ticks": ""
            },
            "type": "contourcarpet"
           }
          ],
          "heatmap": [
           {
            "colorbar": {
             "outlinewidth": 0,
             "ticks": ""
            },
            "colorscale": [
             [
              0,
              "#0d0887"
             ],
             [
              0.1111111111111111,
              "#46039f"
             ],
             [
              0.2222222222222222,
              "#7201a8"
             ],
             [
              0.3333333333333333,
              "#9c179e"
             ],
             [
              0.4444444444444444,
              "#bd3786"
             ],
             [
              0.5555555555555556,
              "#d8576b"
             ],
             [
              0.6666666666666666,
              "#ed7953"
             ],
             [
              0.7777777777777778,
              "#fb9f3a"
             ],
             [
              0.8888888888888888,
              "#fdca26"
             ],
             [
              1,
              "#f0f921"
             ]
            ],
            "type": "heatmap"
           }
          ],
          "histogram": [
           {
            "marker": {
             "pattern": {
              "fillmode": "overlay",
              "size": 10,
              "solidity": 0.2
             }
            },
            "type": "histogram"
           }
          ],
          "histogram2d": [
           {
            "colorbar": {
             "outlinewidth": 0,
             "ticks": ""
            },
            "colorscale": [
             [
              0,
              "#0d0887"
             ],
             [
              0.1111111111111111,
              "#46039f"
             ],
             [
              0.2222222222222222,
              "#7201a8"
             ],
             [
              0.3333333333333333,
              "#9c179e"
             ],
             [
              0.4444444444444444,
              "#bd3786"
             ],
             [
              0.5555555555555556,
              "#d8576b"
             ],
             [
              0.6666666666666666,
              "#ed7953"
             ],
             [
              0.7777777777777778,
              "#fb9f3a"
             ],
             [
              0.8888888888888888,
              "#fdca26"
             ],
             [
              1,
              "#f0f921"
             ]
            ],
            "type": "histogram2d"
           }
          ],
          "histogram2dcontour": [
           {
            "colorbar": {
             "outlinewidth": 0,
             "ticks": ""
            },
            "colorscale": [
             [
              0,
              "#0d0887"
             ],
             [
              0.1111111111111111,
              "#46039f"
             ],
             [
              0.2222222222222222,
              "#7201a8"
             ],
             [
              0.3333333333333333,
              "#9c179e"
             ],
             [
              0.4444444444444444,
              "#bd3786"
             ],
             [
              0.5555555555555556,
              "#d8576b"
             ],
             [
              0.6666666666666666,
              "#ed7953"
             ],
             [
              0.7777777777777778,
              "#fb9f3a"
             ],
             [
              0.8888888888888888,
              "#fdca26"
             ],
             [
              1,
              "#f0f921"
             ]
            ],
            "type": "histogram2dcontour"
           }
          ],
          "mesh3d": [
           {
            "colorbar": {
             "outlinewidth": 0,
             "ticks": ""
            },
            "type": "mesh3d"
           }
          ],
          "parcoords": [
           {
            "line": {
             "colorbar": {
              "outlinewidth": 0,
              "ticks": ""
             }
            },
            "type": "parcoords"
           }
          ],
          "pie": [
           {
            "automargin": true,
            "type": "pie"
           }
          ],
          "scatter": [
           {
            "fillpattern": {
             "fillmode": "overlay",
             "size": 10,
             "solidity": 0.2
            },
            "type": "scatter"
           }
          ],
          "scatter3d": [
           {
            "line": {
             "colorbar": {
              "outlinewidth": 0,
              "ticks": ""
             }
            },
            "marker": {
             "colorbar": {
              "outlinewidth": 0,
              "ticks": ""
             }
            },
            "type": "scatter3d"
           }
          ],
          "scattercarpet": [
           {
            "marker": {
             "colorbar": {
              "outlinewidth": 0,
              "ticks": ""
             }
            },
            "type": "scattercarpet"
           }
          ],
          "scattergeo": [
           {
            "marker": {
             "colorbar": {
              "outlinewidth": 0,
              "ticks": ""
             }
            },
            "type": "scattergeo"
           }
          ],
          "scattergl": [
           {
            "marker": {
             "colorbar": {
              "outlinewidth": 0,
              "ticks": ""
             }
            },
            "type": "scattergl"
           }
          ],
          "scattermap": [
           {
            "marker": {
             "colorbar": {
              "outlinewidth": 0,
              "ticks": ""
             }
            },
            "type": "scattermap"
           }
          ],
          "scattermapbox": [
           {
            "marker": {
             "colorbar": {
              "outlinewidth": 0,
              "ticks": ""
             }
            },
            "type": "scattermapbox"
           }
          ],
          "scatterpolar": [
           {
            "marker": {
             "colorbar": {
              "outlinewidth": 0,
              "ticks": ""
             }
            },
            "type": "scatterpolar"
           }
          ],
          "scatterpolargl": [
           {
            "marker": {
             "colorbar": {
              "outlinewidth": 0,
              "ticks": ""
             }
            },
            "type": "scatterpolargl"
           }
          ],
          "scatterternary": [
           {
            "marker": {
             "colorbar": {
              "outlinewidth": 0,
              "ticks": ""
             }
            },
            "type": "scatterternary"
           }
          ],
          "surface": [
           {
            "colorbar": {
             "outlinewidth": 0,
             "ticks": ""
            },
            "colorscale": [
             [
              0,
              "#0d0887"
             ],
             [
              0.1111111111111111,
              "#46039f"
             ],
             [
              0.2222222222222222,
              "#7201a8"
             ],
             [
              0.3333333333333333,
              "#9c179e"
             ],
             [
              0.4444444444444444,
              "#bd3786"
             ],
             [
              0.5555555555555556,
              "#d8576b"
             ],
             [
              0.6666666666666666,
              "#ed7953"
             ],
             [
              0.7777777777777778,
              "#fb9f3a"
             ],
             [
              0.8888888888888888,
              "#fdca26"
             ],
             [
              1,
              "#f0f921"
             ]
            ],
            "type": "surface"
           }
          ],
          "table": [
           {
            "cells": {
             "fill": {
              "color": "#EBF0F8"
             },
             "line": {
              "color": "white"
             }
            },
            "header": {
             "fill": {
              "color": "#C8D4E3"
             },
             "line": {
              "color": "white"
             }
            },
            "type": "table"
           }
          ]
         },
         "layout": {
          "annotationdefaults": {
           "arrowcolor": "#2a3f5f",
           "arrowhead": 0,
           "arrowwidth": 1
          },
          "autotypenumbers": "strict",
          "coloraxis": {
           "colorbar": {
            "outlinewidth": 0,
            "ticks": ""
           }
          },
          "colorscale": {
           "diverging": [
            [
             0,
             "#8e0152"
            ],
            [
             0.1,
             "#c51b7d"
            ],
            [
             0.2,
             "#de77ae"
            ],
            [
             0.3,
             "#f1b6da"
            ],
            [
             0.4,
             "#fde0ef"
            ],
            [
             0.5,
             "#f7f7f7"
            ],
            [
             0.6,
             "#e6f5d0"
            ],
            [
             0.7,
             "#b8e186"
            ],
            [
             0.8,
             "#7fbc41"
            ],
            [
             0.9,
             "#4d9221"
            ],
            [
             1,
             "#276419"
            ]
           ],
           "sequential": [
            [
             0,
             "#0d0887"
            ],
            [
             0.1111111111111111,
             "#46039f"
            ],
            [
             0.2222222222222222,
             "#7201a8"
            ],
            [
             0.3333333333333333,
             "#9c179e"
            ],
            [
             0.4444444444444444,
             "#bd3786"
            ],
            [
             0.5555555555555556,
             "#d8576b"
            ],
            [
             0.6666666666666666,
             "#ed7953"
            ],
            [
             0.7777777777777778,
             "#fb9f3a"
            ],
            [
             0.8888888888888888,
             "#fdca26"
            ],
            [
             1,
             "#f0f921"
            ]
           ],
           "sequentialminus": [
            [
             0,
             "#0d0887"
            ],
            [
             0.1111111111111111,
             "#46039f"
            ],
            [
             0.2222222222222222,
             "#7201a8"
            ],
            [
             0.3333333333333333,
             "#9c179e"
            ],
            [
             0.4444444444444444,
             "#bd3786"
            ],
            [
             0.5555555555555556,
             "#d8576b"
            ],
            [
             0.6666666666666666,
             "#ed7953"
            ],
            [
             0.7777777777777778,
             "#fb9f3a"
            ],
            [
             0.8888888888888888,
             "#fdca26"
            ],
            [
             1,
             "#f0f921"
            ]
           ]
          },
          "colorway": [
           "#636efa",
           "#EF553B",
           "#00cc96",
           "#ab63fa",
           "#FFA15A",
           "#19d3f3",
           "#FF6692",
           "#B6E880",
           "#FF97FF",
           "#FECB52"
          ],
          "font": {
           "color": "#2a3f5f"
          },
          "geo": {
           "bgcolor": "white",
           "lakecolor": "white",
           "landcolor": "#E5ECF6",
           "showlakes": true,
           "showland": true,
           "subunitcolor": "white"
          },
          "hoverlabel": {
           "align": "left"
          },
          "hovermode": "closest",
          "mapbox": {
           "style": "light"
          },
          "paper_bgcolor": "white",
          "plot_bgcolor": "#E5ECF6",
          "polar": {
           "angularaxis": {
            "gridcolor": "white",
            "linecolor": "white",
            "ticks": ""
           },
           "bgcolor": "#E5ECF6",
           "radialaxis": {
            "gridcolor": "white",
            "linecolor": "white",
            "ticks": ""
           }
          },
          "scene": {
           "xaxis": {
            "backgroundcolor": "#E5ECF6",
            "gridcolor": "white",
            "gridwidth": 2,
            "linecolor": "white",
            "showbackground": true,
            "ticks": "",
            "zerolinecolor": "white"
           },
           "yaxis": {
            "backgroundcolor": "#E5ECF6",
            "gridcolor": "white",
            "gridwidth": 2,
            "linecolor": "white",
            "showbackground": true,
            "ticks": "",
            "zerolinecolor": "white"
           },
           "zaxis": {
            "backgroundcolor": "#E5ECF6",
            "gridcolor": "white",
            "gridwidth": 2,
            "linecolor": "white",
            "showbackground": true,
            "ticks": "",
            "zerolinecolor": "white"
           }
          },
          "shapedefaults": {
           "line": {
            "color": "#2a3f5f"
           }
          },
          "ternary": {
           "aaxis": {
            "gridcolor": "white",
            "linecolor": "white",
            "ticks": ""
           },
           "baxis": {
            "gridcolor": "white",
            "linecolor": "white",
            "ticks": ""
           },
           "bgcolor": "#E5ECF6",
           "caxis": {
            "gridcolor": "white",
            "linecolor": "white",
            "ticks": ""
           }
          },
          "title": {
           "x": 0.05
          },
          "xaxis": {
           "automargin": true,
           "gridcolor": "white",
           "linecolor": "white",
           "ticks": "",
           "title": {
            "standoff": 15
           },
           "zerolinecolor": "white",
           "zerolinewidth": 2
          },
          "yaxis": {
           "automargin": true,
           "gridcolor": "white",
           "linecolor": "white",
           "ticks": "",
           "title": {
            "standoff": 15
           },
           "zerolinecolor": "white",
           "zerolinewidth": 2
          }
         }
        },
        "xaxis": {
         "anchor": "y",
         "domain": [
          0,
          1
         ],
         "title": {
          "text": "X-coordinate"
         },
         "type": "log"
        },
        "yaxis": {
         "anchor": "x",
         "domain": [
          0,
          1
         ],
         "title": {
          "text": "Y-coordinate"
         }
        }
       }
      }
     },
     "metadata": {},
     "output_type": "display_data"
    }
   ],
   "source": [
    "#inital positions\n",
    "fig = px.scatter(bodies, x=\"X-coordinate\", y=\"Y-coordinate\", color=\"Velocity\",\n",
    "                 size=\"Mass\", log_x=True, size_max=30)\n",
    "\n",
    "fig.show()"
   ]
  },
  {
   "cell_type": "code",
   "execution_count": 4,
   "metadata": {},
   "outputs": [
    {
     "name": "stdout",
     "output_type": "stream",
     "text": [
      "78\n",
      "78\n",
      "[[64.66, 355.42, 282.31, 522.3, 507.91, 358.73, 455.25, 258.94, 436.7, 108.17, 413.61, 408.31, 419.26, 299.1, 582.55, 570.14, 413.49, 519.82, 313.23, 499.24, 141.99, 459.95, 464.43, 458.24, 293.07, 248.1, 271.62, 135.98, 170.0, 193.2, 357.02, 371.59, 277.41, 446.23, 462.83, 262.24, 483.0, 463.62, 409.72, 176.3, 238.82, 309.7, 54.41, 187.8, 176.62, 448.47, 102.49, 459.7, 226.72, 136.89, 200.59, 124.33, 409.69, 71.61, 455.41, 259.31, 156.63, 239.84, 369.36, 152.16, 280.6, 100.12, 53.04, 305.47, 99.02, 428.41, 327.81, 218.84, 345.98, 311.1, 463.92, 395.57, 387.47, 231.76, 122.2, 318.79, 333.12, 109.56]]\n",
      "[[305.65, 230.63, 47.01, 151.02, 276.49, 81.57, 50.29, 218.51, 281.9, 156.92, 303.36, 57.99, 262.73, 53.55, 172.05, 314.98, 92.93, 57.29, 248.92, 321.14, 178.76, 345.58, 66.06, 40.41, 129.82, 237.67, 70.12, 43.23, 187.83, 242.32, 134.89, 260.76, 49.84, 26.46, 48.45, 14.29, 8.81, 38.29, 49.39, 27.49, 53.15, 10.16, 155.63, 45.92, 28.31, 122.99, 158.68, 88.33, 170.75, 32.64, 84.06, 51.82, 225.18, 290.5, 161.71, 312.62, 59.76, 15.29, 66.43, 85.71, 47.71, 92.23, 17.63, 40.95, 52.83, 29.41, 56.86, 10.87, 229.58, 127.8, 247.06, 47.22, 164.87, 318.73, 60.92, 177.42, 33.91, 65.56]]\n",
      "-4.727033714815961\n"
     ]
    }
   ],
   "source": [
    "def distance(bodies):\n",
    "    r = []\n",
    "    for i in range(len(bodies[\"Mass\"])):\n",
    "        for j in range(i + 1, len(bodies[\"Mass\"])):\n",
    "            x1, y1 = bodies[\"X-coordinate\"][i], bodies[\"Y-coordinate\"][i]\n",
    "            x2, y2 = bodies[\"X-coordinate\"][j], bodies[\"Y-coordinate\"][j]\n",
    "            d = math.sqrt((x2 - x1)**2 + (y2 - y1)**2)\n",
    "            r.append(round(d, 2))\n",
    "    return r\n",
    "\n",
    "\n",
    "def get_mass(bodies):\n",
    "    masses = []\n",
    "    length = len(bodies[\"Mass\"])\n",
    "    for i in range(0, len(bodies[\"Mass\"]) - 1):\n",
    "        for j in range(1, length):\n",
    "                m1 = bodies[\"Mass\"][i]\n",
    "                m2 = bodies[\"Mass\"][i + j]\n",
    "                masses.append(round((m1 * m2), 2))\n",
    "        length -= 1\n",
    "        if length < 0:\n",
    "            break\n",
    "    return masses\n",
    "\n",
    "def gp_energy(r_list, m_list):\n",
    "     #U = -((G*m1*m2)/r)\n",
    "     G = 1\n",
    "     U = 0\n",
    "     for i in range(0, len(r_list)):\n",
    "        U += -((G * m_list[0][i])/r_list[0][i])\n",
    "     return U\n",
    "\n",
    "# unused function for kinetic energy\n",
    "def ki_energy(bodies):\n",
    "    K = 0\n",
    "    for i in range(len(bodies[\"Mass\"])):\n",
    "        m = bodies[\"Mass\"][i]\n",
    "        v = bodies[\"Velocity\"][i]\n",
    "        K += 0.5 * m * v**2\n",
    "    return K\n",
    "\n",
    "\n",
    "r_list, m_list = [], []\n",
    "r_list.append(distance(bodies))\n",
    "m_list.append(get_mass(bodies))\n",
    "fitness = gp_energy(r_list, m_list)\n",
    "#k_total = ki_energy(bodies, m_list)\n",
    "\n",
    "print(len(r_list[0]))\n",
    "print(len(m_list[0]))\n",
    "print(r_list)\n",
    "print(m_list)\n",
    "print(fitness)\n",
    "#print(k_total)"
   ]
  },
  {
   "cell_type": "code",
   "execution_count": 5,
   "metadata": {},
   "outputs": [
    {
     "name": "stdout",
     "output_type": "stream",
     "text": [
      "-47.75781249999999\n",
      "109\n"
     ]
    }
   ],
   "source": [
    "#for a random star, change either x or y randomly by +1 or-1\n",
    "x = True\n",
    "iterations = 0\n",
    "test = 0\n",
    "plot = []\n",
    "\n",
    "#while x:\n",
    "for i in range(0, 1000):\n",
    "    point = random.randint(0, len(bodies[\"X-coordinate\"]) - 1)\n",
    "    #print(len(bodies[\"X-coordinate\"]))\n",
    "    #print(point)\n",
    "\n",
    "    choice = [\"X-coordinate\", \"Y-coordinate\"]\n",
    "    random_int = random.randint(0,1)\n",
    "    x_y = random.choice(choice)\n",
    "\n",
    "    #print(f\"before: {bodies[x_y][point]}\")\n",
    "\n",
    "    old_value = bodies[x_y][point]\n",
    "\n",
    "    if random_int == 1:\n",
    "        bodies[x_y][point] += 10\n",
    "    elif random_int == 0:\n",
    "        bodies[x_y][point] -= 10\n",
    "\n",
    "    #print(f\"after: {bodies[x_y][point]}\")\n",
    "\n",
    "    r_list, m_list = [], []\n",
    "\n",
    "    r_list.append(distance(bodies))\n",
    "    m_list.append(get_mass(bodies))\n",
    "    new_fitness = gp_energy(r_list, m_list)\n",
    "    #k_total = ki_energy(bodies, m_list)\n",
    "\n",
    "    if new_fitness < fitness:\n",
    "        fitness = new_fitness\n",
    "        iterations += 1\n",
    "        plot.append(px.scatter(bodies, x=\"X-coordinate\", y=\"Y-coordinate\", color=\"Velocity\",\n",
    "                 size=\"Mass\", log_x=True, size_max=30))\n",
    "    elif new_fitness > fitness:\n",
    "        bodies[x_y][point] = old_value\n",
    "        iterations += 1\n",
    "        plot.append(px.scatter(bodies, x=\"X-coordinate\", y=\"Y-coordinate\", color=\"Velocity\",\n",
    "                 size=\"Mass\", log_x=True, size_max=30))\n",
    "\n",
    "\n",
    "print(fitness)\n",
    "print(iterations)"
   ]
  },
  {
   "cell_type": "code",
   "execution_count": 6,
   "metadata": {},
   "outputs": [
    {
     "data": {
      "text/html": [
       "\n",
       "        <iframe\n",
       "            width=\"100%\"\n",
       "            height=\"650\"\n",
       "            src=\"http://127.0.0.1:8050/\"\n",
       "            frameborder=\"0\"\n",
       "            allowfullscreen\n",
       "            \n",
       "        ></iframe>\n",
       "        "
      ],
      "text/plain": [
       "<IPython.lib.display.IFrame at 0x11c9fbb60>"
      ]
     },
     "metadata": {},
     "output_type": "display_data"
    }
   ],
   "source": [
    "app = dash.Dash(__name__)\n",
    "\n",
    "app.layout = html.Div([\n",
    "    html.Div([\n",
    "        html.Pre(children = f\"2D {len(bodies[\"Mass\"])}-body simulation\", \n",
    "                 style={\"text-align\": \"center\", \"font-size\": \"100%\", \"color\": \"white\"})\n",
    "    ]),\n",
    "\n",
    "    html.Div([\n",
    "        dcc.Graph(id=\"x_y\", figure=plot[iterations - 1])\n",
    "    ]),\n",
    "\n",
    "    html.Div([\n",
    "        dcc.Slider(0, iterations-1, marks=None, id=\"slider\", value=iterations-1, step=1)\n",
    "    ])\n",
    "])\n",
    "\n",
    "\n",
    "@app.callback(\n",
    "    Output(\"x_y\", \"figure\"),\n",
    "    Input(\"slider\", \"value\")\n",
    ")\n",
    "\n",
    "def update_graph(value):\n",
    "    return plot[value]\n",
    "\n",
    "if __name__ == '__main__':\n",
    "    app.run(debug=True)"
   ]
  }
 ],
 "metadata": {
  "kernelspec": {
   "display_name": ".venv",
   "language": "python",
   "name": "python3"
  },
  "language_info": {
   "codemirror_mode": {
    "name": "ipython",
    "version": 3
   },
   "file_extension": ".py",
   "mimetype": "text/x-python",
   "name": "python",
   "nbconvert_exporter": "python",
   "pygments_lexer": "ipython3",
   "version": "3.13.3"
  }
 },
 "nbformat": 4,
 "nbformat_minor": 2
}
